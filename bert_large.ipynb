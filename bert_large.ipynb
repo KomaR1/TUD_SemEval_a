{
 "cells": [
  {
   "cell_type": "code",
   "execution_count": 1,
   "id": "227d284c-3d60-457b-9bbd-7eca8bd68396",
   "metadata": {},
   "outputs": [],
   "source": [
    "import os\n",
    "from sys import argv\n",
    "from argparse import ArgumentParser\n",
    "from datasets import load_dataset\n",
    "from transformers import BertForSequenceClassification, BertTokenizer, TrainingArguments, Trainer, BertConfig, EarlyStoppingCallback\n",
    "import torch\n",
    "from torch.nn.functional import softmax\n",
    "from sklearn.metrics import f1_score, accuracy_score\n",
    "\n",
    "device = 'cuda' if torch.cuda.is_available() else 'cpu'\n",
    "\n",
    "parser = ArgumentParser()\n",
    "parser.add_argument(\"--output_directory\", type=str)\n",
    "parser.add_argument(\"--language\", type=str)\n",
    "parser.add_argument(\"--context_length\", type=int, default=128)\n",
    "parser.add_argument(\"--cache_dir\", type=str, default=\".\")\n",
    "args, _ = parser.parse_known_args(argv[1:])\n",
    "DIRECTORY = args.output_directory\n",
    "\n",
    "# Constants for model testing\n",
    "LABELS = [\"anger\", \"fear\", \"joy\", \"sadness\", \"surprise\"]\n",
    "THRESHOLD = 0.5\n"
   ]
  },
  {
   "cell_type": "code",
   "execution_count": 2,
   "id": "2517a178-6c6a-4012-9003-555fa2c775ab",
   "metadata": {},
   "outputs": [],
   "source": [
    "# Preprocess and tokenise data\n",
    "def prepare_data(rows):\n",
    "    labels = list(zip(\n",
    "        rows[\"anger\"], \n",
    "        rows[\"fear\"], \n",
    "        rows[\"joy\"], \n",
    "        rows[\"sadness\"], \n",
    "        rows[\"surprise\"]\n",
    "    ))\n",
    "    labels = [[float(label) for label in example] for example in labels]\n",
    "    tokenized_data = tokenizer(rows[\"text\"], truncation=True, padding=\"max_length\")\n",
    "    tokenized_data[\"labels\"] = labels\n",
    "    return tokenized_data\n",
    "\n",
    "\n",
    "# Compute metrics for evaluation: f1, accuracy \n",
    "def compute_metrics(eval_pred):\n",
    "    logits, labels = eval_pred\n",
    "    predictions = (logits > 0).astype(int)\n",
    "    f1 = f1_score(labels, predictions, average=\"micro\")\n",
    "    accuracy = accuracy_score(labels, predictions)\n",
    "    return {\"f1\": f1, \"accuracy\": accuracy}\n",
    "\n",
    "\n",
    "# Label the prediction after prediction\n",
    "def label_prediction(prediction):\n",
    "    labeled = []\n",
    "    for pred in prediction:\n",
    "        labeled.append([LABELS[i] for i, label in enumerate(pred) if label == 1])\n",
    "    return labeled\n"
   ]
  },
  {
   "cell_type": "code",
   "execution_count": 3,
   "id": "26b6e7af-bb8e-4899-b528-3598f638b725",
   "metadata": {},
   "outputs": [
    {
     "data": {
      "application/vnd.jupyter.widget-view+json": {
       "model_id": "4f980bcf93134539b4718ca85305887e",
       "version_major": 2,
       "version_minor": 0
      },
      "text/plain": [
       "Map:   0%|          | 0/2214 [00:00<?, ? examples/s]"
      ]
     },
     "metadata": {},
     "output_type": "display_data"
    },
    {
     "data": {
      "application/vnd.jupyter.widget-view+json": {
       "model_id": "985ccda27c624c1cb104a61136ff35f1",
       "version_major": 2,
       "version_minor": 0
      },
      "text/plain": [
       "Map:   0%|          | 0/554 [00:00<?, ? examples/s]"
      ]
     },
     "metadata": {},
     "output_type": "display_data"
    }
   ],
   "source": [
    "dataset = load_dataset(\"csv\", data_files=\"public_data_dev/track_a/train/eng.csv\")\n",
    "tokenizer = BertTokenizer.from_pretrained(\"bert-large-cased\")\n",
    "\n",
    "# Split the dataset into train and test set\n",
    "split_dataset = dataset[\"train\"].train_test_split(test_size=0.2, shuffle=True)\n",
    "train_dataset = split_dataset[\"train\"]\n",
    "test_dataset = split_dataset[\"test\"]\n",
    "\n",
    "# Apply preprocessing and tokenisation\n",
    "tokenized_train = train_dataset.map(prepare_data, batched=True)\n",
    "tokenized_train = tokenized_train.remove_columns([\"id\", \"text\", \"anger\", \"fear\", \"joy\", \"sadness\", \"surprise\"])\n",
    "\n",
    "# Apply preprocessing and tokenisation\n",
    "tokenized_test = test_dataset.map(prepare_data, batched=True)\n",
    "tokenized_test = tokenized_test.remove_columns([\"id\", \"text\", \"anger\", \"fear\", \"joy\", \"sadness\", \"surprise\"])\n"
   ]
  },
  {
   "cell_type": "code",
   "execution_count": 4,
   "id": "26943d1e-cf6e-44f1-ad3e-a8f9dd7bc491",
   "metadata": {},
   "outputs": [
    {
     "name": "stderr",
     "output_type": "stream",
     "text": [
      "Some weights of BertForSequenceClassification were not initialized from the model checkpoint at bert-large-cased and are newly initialized: ['classifier.bias', 'classifier.weight']\n",
      "You should probably TRAIN this model on a down-stream task to be able to use it for predictions and inference.\n"
     ]
    },
    {
     "data": {
      "text/html": [
       "\n",
       "    <div>\n",
       "      \n",
       "      <progress value='630' max='1035' style='width:300px; height:20px; vertical-align: middle;'></progress>\n",
       "      [ 630/1035 05:18 < 03:25, 1.97 it/s, Epoch 9/15]\n",
       "    </div>\n",
       "    <table border=\"1\" class=\"dataframe\">\n",
       "  <thead>\n",
       " <tr style=\"text-align: left;\">\n",
       "      <th>Epoch</th>\n",
       "      <th>Training Loss</th>\n",
       "      <th>Validation Loss</th>\n",
       "      <th>F1</th>\n",
       "      <th>Accuracy</th>\n",
       "    </tr>\n",
       "  </thead>\n",
       "  <tbody>\n",
       "    <tr>\n",
       "      <td>1</td>\n",
       "      <td>0.746100</td>\n",
       "      <td>0.719822</td>\n",
       "      <td>0.470005</td>\n",
       "      <td>0.095668</td>\n",
       "    </tr>\n",
       "    <tr>\n",
       "      <td>2</td>\n",
       "      <td>0.693100</td>\n",
       "      <td>0.562122</td>\n",
       "      <td>0.463989</td>\n",
       "      <td>0.166065</td>\n",
       "    </tr>\n",
       "    <tr>\n",
       "      <td>3</td>\n",
       "      <td>0.543800</td>\n",
       "      <td>0.481162</td>\n",
       "      <td>0.569415</td>\n",
       "      <td>0.277978</td>\n",
       "    </tr>\n",
       "    <tr>\n",
       "      <td>4</td>\n",
       "      <td>0.466800</td>\n",
       "      <td>0.401432</td>\n",
       "      <td>0.703611</td>\n",
       "      <td>0.416968</td>\n",
       "    </tr>\n",
       "    <tr>\n",
       "      <td>5</td>\n",
       "      <td>0.361900</td>\n",
       "      <td>0.365527</td>\n",
       "      <td>0.735646</td>\n",
       "      <td>0.445848</td>\n",
       "    </tr>\n",
       "    <tr>\n",
       "      <td>6</td>\n",
       "      <td>0.316200</td>\n",
       "      <td>0.338981</td>\n",
       "      <td>0.755422</td>\n",
       "      <td>0.471119</td>\n",
       "    </tr>\n",
       "    <tr>\n",
       "      <td>7</td>\n",
       "      <td>0.290700</td>\n",
       "      <td>0.332626</td>\n",
       "      <td>0.759064</td>\n",
       "      <td>0.467509</td>\n",
       "    </tr>\n",
       "    <tr>\n",
       "      <td>8</td>\n",
       "      <td>0.215700</td>\n",
       "      <td>0.352650</td>\n",
       "      <td>0.754157</td>\n",
       "      <td>0.487365</td>\n",
       "    </tr>\n",
       "    <tr>\n",
       "      <td>9</td>\n",
       "      <td>0.182400</td>\n",
       "      <td>0.351460</td>\n",
       "      <td>0.768421</td>\n",
       "      <td>0.472924</td>\n",
       "    </tr>\n",
       "  </tbody>\n",
       "</table><p>"
      ],
      "text/plain": [
       "<IPython.core.display.HTML object>"
      ]
     },
     "metadata": {},
     "output_type": "display_data"
    },
    {
     "data": {
      "text/html": [
       "\n",
       "    <div>\n",
       "      \n",
       "      <progress value='35' max='35' style='width:300px; height:20px; vertical-align: middle;'></progress>\n",
       "      [35/35 00:02]\n",
       "    </div>\n",
       "    "
      ],
      "text/plain": [
       "<IPython.core.display.HTML object>"
      ]
     },
     "metadata": {},
     "output_type": "display_data"
    },
    {
     "name": "stdout",
     "output_type": "stream",
     "text": [
      "Fine-tuned model results: {'eval_loss': 0.3326261639595032, 'eval_f1': 0.7590643274853801, 'eval_accuracy': 0.4675090252707581, 'eval_runtime': 2.1128, 'eval_samples_per_second': 262.214, 'eval_steps_per_second': 16.566, 'epoch': 9.0}\n"
     ]
    }
   ],
   "source": [
    "# Get the pretrained model and start fine-tuning\n",
    "model = BertForSequenceClassification.from_pretrained(\n",
    "    \"bert-large-cased\", \n",
    "    num_labels=5, \n",
    "    problem_type=\"multi_label_classification\", \n",
    "    hidden_dropout_prob=0.2,  \n",
    "    attention_probs_dropout_prob=0.2\n",
    ")\n",
    "\n",
    "training_args = TrainingArguments(\n",
    "    output_dir=\"./output\",\n",
    "    learning_rate=3e-5,\n",
    "    num_train_epochs=15,\n",
    "    logging_dir=\"./logs_large_modezl\",\n",
    "    per_device_train_batch_size=16,\n",
    "    per_device_eval_batch_size=16,\n",
    "    eval_strategy=\"epoch\",\n",
    "    save_strategy=\"epoch\",\n",
    "    gradient_accumulation_steps=2,\n",
    "    lr_scheduler_type=\"linear\",\n",
    "    warmup_steps=1000,\n",
    "    logging_steps=50,\n",
    "    load_best_model_at_end = True,\n",
    "    save_total_limit=3,\n",
    "    weight_decay=0.01,\n",
    "    max_grad_norm=1.0,\n",
    "    fp16=True,\n",
    "    seed=42\n",
    ")\n",
    "\n",
    "trainer = Trainer(\n",
    "    model=model,\n",
    "    args=training_args,\n",
    "    train_dataset=tokenized_train,\n",
    "    eval_dataset=tokenized_test,\n",
    "    processing_class=tokenizer,\n",
    "    compute_metrics=compute_metrics,\n",
    "    callbacks=[EarlyStoppingCallback(early_stopping_patience=2)]\n",
    ")\n",
    "\n",
    "trainer.train()\n",
    "\n",
    "result = trainer.evaluate()\n",
    "print(\"Fine-tuned model results:\", result)\n",
    "\n",
    "# trainer.save_model(f\"{DIRECTORY}/bert_large_proj\")\n",
    "# trainer.save_model(\"model/bert_large_SemEval\")\n"
   ]
  },
  {
   "cell_type": "code",
   "execution_count": 5,
   "id": "73286e01-3746-40dd-8b4f-8f86db9bc447",
   "metadata": {},
   "outputs": [
    {
     "name": "stdout",
     "output_type": "stream",
     "text": [
      "Probabilities: [[0.06153674 0.91715443 0.04501553 0.16940586 0.93991333]]\n",
      "Predictions: [[0 1 0 0 1]]\n",
      "Emotion: [['fear', 'surprise']]\n"
     ]
    }
   ],
   "source": [
    "# Evaluation phase\n",
    "model.eval()\n",
    "\n",
    "text = \"Colorado , middle of nowhere .\"\n",
    "inputs = tokenizer(text, return_tensors='pt', truncation=True, padding=True).to(device)\n",
    "with torch.no_grad():\n",
    "    outputs = model(**inputs)\n",
    "logits = outputs.logits\n",
    "\n",
    "probabilities = torch.sigmoid(logits).cpu().numpy()\n",
    "prediction = (probabilities > THRESHOLD).astype(int)\n",
    "emotion = label_prediction(prediction)\n",
    "\n",
    "print(\n",
    "    \"Probabilities: {}\".format(probabilities),\n",
    "    \"Predictions: {}\".format(prediction),\n",
    "    \"Emotion: {}\".format(emotion), sep='\\n'\n",
    ")"
   ]
  },
  {
   "cell_type": "code",
   "execution_count": 17,
   "id": "80d54f64-d6db-452f-bc07-57237c295584",
   "metadata": {},
   "outputs": [],
   "source": [
    "# %pip install --upgrade shap\n",
    "# %pip install numpy==2.1"
   ]
  },
  {
   "cell_type": "code",
   "execution_count": 6,
   "id": "1dc6e9dd-f334-4c4a-89d0-23c34e4e6931",
   "metadata": {},
   "outputs": [
    {
     "name": "stderr",
     "output_type": "stream",
     "text": [
      "Device set to use cuda:0\n",
      "/root/.pyenv/versions/3.12.0/lib/python3.12/site-packages/transformers/pipelines/text_classification.py:106: UserWarning: `return_all_scores` is now deprecated,  if want a similar functionality use `top_k=None` instead of `return_all_scores=True` or `top_k=1` instead of `return_all_scores=False`.\n",
      "  warnings.warn(\n",
      "You seem to be using the pipelines sequentially on GPU. In order to maximize efficiency please use a dataset\n",
      "scores` is now deprecated,  if want a similar functionality use `top_k=None` instead of `return_all_scores=True` or `top_k=1` instead of `return_all_scores=False`.\n",
      "  warnings.warn(\n"
     ]
    },
    {
     "data": {
      "image/png": "[encoded data removed]",
      "text/plain": [
       "<Figure size 800x600 with 1 Axes>"
      ]
     },
     "metadata": {},
     "output_type": "display_data"
    }
   ],
   "source": [
    "import transformers\n",
    "import shap\n",
    "import numpy as np\n",
    "import matplotlib.pyplot as plt\n",
    "\n",
    "shap_dataset = dataset[\"train\"][\"text\"][:3]\n",
    "class_names = [\"anger\", \"fear\", \"joy\", \"sadness\", \"surprise\"]\n",
    "\n",
    "pred = transformers.pipeline(\n",
    "    \"sentiment-analysis\",\n",
    "    model=model,\n",
    "    tokenizer=tokenizer,\n",
    "    return_all_scores=True,\n",
    ")\n",
    "\n",
    "explainer = shap.Explainer(pred, output_names=class_names)\n",
    "shap_values = explainer(shap_dataset)\n",
    "\n",
    "\n",
    "single_shap = shap_values[2]\n",
    "class_index = 0\n",
    "shap_values_array = np.array(single_shap.values[:, class_index])\n",
    "feature_names = single_shap.feature_names\n",
    "\n",
    "sorted_indices = np.argsort(np.abs(shap_values_array))[::-1]\n",
    "shap_values_array = shap_values_array[sorted_indices]\n",
    "feature_names = np.array(feature_names)[sorted_indices]\n",
    "\n",
    "fig, ax = plt.subplots(figsize=(8, 6))\n",
    "bars = ax.barh(feature_names, shap_values_array, color=[\"red\" if v > 0 else \"blue\" for v in shap_values_array])\n",
    "\n",
    "for bar, value in zip(bars, shap_values_array):\n",
    "    ax.text(bar.get_width() / 2,\n",
    "            bar.get_y() + bar.get_height() / 2,\n",
    "            f\"{value:.3f}\", \n",
    "            ha=\"center\", va=\"center\")\n",
    "\n",
    "ax.set_xlabel(\"SHAP Value\")\n",
    "ax.set_title(f\"SHAP Analysis for '{class_names[class_index]}'\")\n",
    "plt.gca().invert_yaxis()\n",
    "plt.show()"
   ]
  },
  {
   "cell_type": "code",
   "execution_count": 96,
   "id": "ed57e004-bd3e-4dfd-b7a7-e4dcedd0e2e6",
   "metadata": {},
   "outputs": [
    {
     "data": {
      "text/plain": [
       "DatasetDict({\n",
       "    train: Dataset({\n",
       "        features: ['id', 'text', 'anger', 'fear', 'joy', 'sadness', 'surprise'],\n",
       "        num_rows: 2768\n",
       "    })\n",
       "})"
      ]
     },
     "execution_count": 96,
     "metadata": {},
     "output_type": "execute_result"
    }
   ],
   "source": [
    "dataset"
   ]
  },
  {
   "cell_type": "code",
   "execution_count": null,
   "id": "1ff09eb5-535d-4a08-b8fd-d48cd90eb014",
   "metadata": {},
   "outputs": [],
   "source": []
  }
 ],
 "metadata": {
  "kernelspec": {
   "display_name": "Python 3.12 (myenv)",
   "language": "python",
   "name": "myenv"
  },
  "language_info": {
   "codemirror_mode": {
    "name": "ipython",
    "version": 3
   },
   "file_extension": ".py",
   "mimetype": "text/x-python",
   "name": "python",
   "nbconvert_exporter": "python",
   "pygments_lexer": "ipython3",
   "version": "3.12.0"
  }
 },
 "nbformat": 4,
 "nbformat_minor": 5
}
